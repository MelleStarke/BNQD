{
 "cells": [
  {
   "cell_type": "markdown",
   "metadata": {
    "pycharm": {
     "name": "#%% md\n"
    }
   },
   "source": [
    "# Multi-kernel Analysis\n",
    "\n",
    "## Imports"
   ]
  },
  {
   "cell_type": "code",
   "execution_count": 1,
   "metadata": {
    "pycharm": {
     "is_executing": false,
     "name": "#%%\n"
    }
   },
   "outputs": [],
   "source": [
    "import numpy as np\n",
    "import matplotlib.pyplot as plt\n",
    "import gpflow as gf\n",
    "import bnqdflow as bf\n",
    "import sys\n",
    "import tensorflow as tf\n",
    "\n",
    "from gpflow import kernels as ks\n",
    "\n",
    "from bnqdflow.analyses import MultiKernelAnalysis\n",
    "\n",
    "summ = gf.utilities.print_summary\n",
    "\n",
    "%matplotlib inline"
   ]
  },
  {
   "cell_type": "markdown",
   "metadata": {
    "pycharm": {
     "name": "#%% md\n"
    }
   },
   "source": [
    "## Dataset Generation"
   ]
  },
  {
   "cell_type": "code",
   "execution_count": 2,
   "metadata": {
    "pycharm": {
     "is_executing": false,
     "name": "#%%\n"
    }
   },
   "outputs": [
    {
     "data": {
      "image/png": "[encoded data removed]",
      "text/plain": [
       "<Figure size 432x288 with 1 Axes>"
      ]
     },
     "metadata": {
      "needs_background": "light"
     },
     "output_type": "display_data"
    }
   ],
   "source": [
    "ip = 0.0  # single intervention point\n",
    "dc = 0.3\n",
    "sigma = 0.2  # Standard deviation\n",
    "n = 50  # Number of data points\n",
    "\n",
    "x = np.linspace(-3, 3, n)  # Evenly distributed x values\n",
    "\n",
    "f = lambda x: 0.8*np.sin(x) + 0.2 * x ** 2 + 0.2 * np.cos(x / 1) + dc * (x > ip)  # Underlying function\n",
    "#f = lambda x: (0.8)*x + dc * (x > ip)\n",
    "y = np.random.normal(f(x), sigma, size=n)  # y values as the underlying function + noise\n",
    "\n",
    "# Data used by the control model (pre-intervention)\n",
    "x1 = x[x <= ip]\n",
    "y1 = y[x <= ip]\n",
    "\n",
    "# Data used by the (post-)intervention model\n",
    "x2 = x[x > ip]\n",
    "y2 = y[x > ip]\n",
    "\n",
    "data = [(x1, y1), (x2, y2)]\n",
    "\n",
    "plt.plot(x1, f(x1), c='blue')\n",
    "plt.plot(x2, f(x2), c='orange')\n",
    "plt.scatter(x1, y1, marker='+', c='blue', alpha=0.5)\n",
    "plt.scatter(x2, y2, marker='x', c='orange', alpha=0.5)\n",
    "plt.show()"
   ]
  },
  {
   "cell_type": "markdown",
   "metadata": {
    "pycharm": {
     "name": "#%% md\n"
    }
   },
   "source": [
    "## Model Specification"
   ]
  },
  {
   "cell_type": "code",
   "execution_count": 3,
   "metadata": {
    "pycharm": {
     "is_executing": false,
     "name": "#%%\n"
    }
   },
   "outputs": [],
   "source": [
    "kernels = [\n",
    "    ks.Constant(),\n",
    "    ks.Linear() + ks.Constant(),\n",
    "    ks.Exponential(),\n",
    "    ks.RBF(),\n",
    "    ks.Matern32()\n",
    "]\n",
    "\n",
    "# If you want a distribution over the effect size marginalized over all kernels,\n",
    "# you need to specify the x_range of the effect size measure\n",
    "a = MultiKernelAnalysis(\n",
    "    kernels,\n",
    "    data=data,\n",
    "    intervention_point=ip,\n",
    "    effect_size_measure=bf.effect_size_measures.Sharp(x_range=(-1, 3.5))\n",
    ")\n",
    "\n",
    "a.init_models()\n",
    "\n",
    "#summ(a)"
   ]
  },
  {
   "cell_type": "markdown",
   "metadata": {
    "pycharm": {
     "name": "#%% md\n"
    }
   },
   "source": [
    "## Model Training"
   ]
  },
  {
   "cell_type": "code",
   "execution_count": null,
   "metadata": {
    "pycharm": {
     "is_executing": true,
     "name": "#%%\n"
    }
   },
   "outputs": [],
   "source": [
    "a.train()\n",
    "for sa in a.analyses:\n",
    "    sa.plot_regressions(separate=True, plot_data=False, num_f_samples=0)"
   ]
  },
  {
   "cell_type": "markdown",
   "metadata": {},
   "source": [
    "## Effect Sizes"
   ]
  },
  {
   "cell_type": "code",
   "execution_count": null,
   "metadata": {
    "pycharm": {
     "is_executing": true,
     "name": "#%%\n"
    }
   },
   "outputs": [],
   "source": [
    "ess = a.get_effect_sizes()\n",
    "\n",
    "for sa, name in zip(a.analyses, a.analysis_dict.keys()):\n",
    "    f = plt.figure()\n",
    "    sa.effect_size_measure.plot()\n",
    "    plt.title(name)\n",
    "    plt.legend()\n",
    "    plt.show()\n",
    "    f.savefig(f\"es_{name}.svg\")\n",
    "\n",
    "a.total_effect_size()\n",
    "f = plt.figure()\n",
    "a.effect_size_measure.plot()\n",
    "plt.title('total effect size')\n",
    "plt.legend()\n",
    "plt.show()\n",
    "f.savefig(f\"es_total.svg\")"
   ]
  },
  {
   "cell_type": "markdown",
   "metadata": {
    "pycharm": {
     "name": "#%% md\n"
    }
   },
   "source": [
    "## Metrics"
   ]
  },
  {
   "cell_type": "code",
   "execution_count": null,
   "metadata": {
    "pycharm": {
     "is_executing": false,
     "name": "#%%\n"
    }
   },
   "outputs": [],
   "source": [
    "print(f\"shared params:\\n{a.shared_params}\\n\\n\"\n",
    "      f\"analysis dict:\\n{a.analysis_dict}\\n\\n\"\n",
    "      f\"log bayes factors:\\n{a.log_bayes_factors()}\\n\\n\"\n",
    "      f\"reduced effect sizes:\\n{a.get_reduced_effect_sizes()}\\n\\n\"\n",
    "      f\"total log BF:\\n{a.total_log_bayes_factor()}\")\n",
    "\n"
   ]
  },
  {
   "cell_type": "code",
   "execution_count": null,
   "metadata": {
    "pycharm": {
     "is_executing": false,
     "name": "#%%\n"
    }
   },
   "outputs": [],
   "source": [
    "a.plot_kernel_effect_sizes()\n",
    "plt.show()\n",
    "\n",
    "f = plt.figure()\n",
    "a.plot_kernel_probabilities()\n",
    "f.savefig(\"kernel_evidences.svg\")"
   ]
  },
  {
   "cell_type": "code",
   "execution_count": null,
   "metadata": {
    "pycharm": {
     "is_executing": false,
     "name": "#%%\n"
    }
   },
   "outputs": [],
   "source": [
    "import matplotlib\n",
    "import sys\n"
   ]
  }
 ],
 "metadata": {
  "kernelspec": {
   "display_name": "Python 3",
   "language": "python",
   "name": "python3"
  },
  "language_info": {
   "codemirror_mode": {
    "name": "ipython",
    "version": 3
   },
   "file_extension": ".py",
   "mimetype": "text/x-python",
   "name": "python",
   "nbconvert_exporter": "python",
   "pygments_lexer": "ipython3",
   "version": "3.7.6"
  },
  "pycharm": {
   "stem_cell": {
    "cell_type": "raw",
    "metadata": {
     "collapsed": false
    },
    "source": []
   }
  }
 },
 "nbformat": 4,
 "nbformat_minor": 1
}
